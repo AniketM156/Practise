{
 "cells": [
  {
   "cell_type": "markdown",
   "metadata": {},
   "source": [
    "## Assignment - 1(191090040 Aniket Mahadik)"
   ]
  },
  {
   "cell_type": "markdown",
   "metadata": {},
   "source": [
    "Q1]Take input as a list of integers with even length (e.g. n = 6). Replace all values at odd indices with\n",
    "their preceding even index values."
   ]
  },
  {
   "cell_type": "code",
   "execution_count": 7,
   "metadata": {},
   "outputs": [
    {
     "name": "stdout",
     "output_type": "stream",
     "text": [
      "enter elemnets seperated by spaces : 1 2 3 4 5 6\n",
      "this is value of  [1, 2, 3, 4, 5, 6]\n",
      "The final output is :  [1, 1, 3, 3, 5, 5]\n"
     ]
    }
   ],
   "source": [
    "def userinputarray():\n",
    "    input_string = input(\"enter elemnets seperated by spaces : \")\n",
    "    user_list = input_string.split()    \n",
    "    for i in range(len(user_list)):              \n",
    "        user_list[i] = int(user_list[i])\n",
    "    return user_list\n",
    "\n",
    "a = userinputarray()\n",
    "print(\"this is value of \" , a)\n",
    "\n",
    "for index,i in enumerate(a):\n",
    "    if index % 2 != 0:\n",
    "        a[index]=a[index-1]\n",
    "    else:\n",
    "        continue\n",
    "print(\"The final output is : \" , a)\n"
   ]
  },
  {
   "cell_type": "markdown",
   "metadata": {},
   "source": [
    " "
   ]
  },
  {
   "cell_type": "markdown",
   "metadata": {},
   "source": [
    "Q2]Enter one word string having at least two vowels (e.g. ‘Pandemic’). Create a function to reverse\n",
    "only the vowels in the string and then print the word having the reversed order of vowels."
   ]
  },
  {
   "cell_type": "code",
   "execution_count": 1,
   "metadata": {},
   "outputs": [
    {
     "name": "stdout",
     "output_type": "stream",
     "text": [
      "Enter a one word string with atleast 2 vowels : aniket\n",
      "ENIKAT\n"
     ]
    }
   ],
   "source": [
    "def checkvowel(char) :\n",
    "    if (char.lower() in ['a','e','i','o','u']) :\n",
    "        return True\n",
    "    else :\n",
    "        return False\n",
    "\n",
    "def split(str) :\n",
    "    lst = []\n",
    "    for char in str :\n",
    "        lst.append(char)\n",
    "    return lst\n",
    "\n",
    "def reverse(str) :\n",
    "    lst = split(str)\n",
    "    lst1 = []\n",
    "    for i in range(len(lst)) :\n",
    "        if (checkvowel(lst[i])) :\n",
    "            lst1.append(i)\n",
    "    i,j = 0,len(lst1)-1\n",
    "    while (i <= j) :\n",
    "        temp = lst[lst1[i]]\n",
    "        lst[lst1[i]] = lst[lst1[j]]\n",
    "        lst[lst1[j]] = temp\n",
    "        i += 1\n",
    "        j -= 1\n",
    "\n",
    "    return ''.join(lst)\n",
    "\n",
    "if __name__ == '__main__' :\n",
    "    while True :\n",
    "        str = input('Enter a one word string with atleast 2 vowels : ')\n",
    "        count = 0\n",
    "        for char in str :\n",
    "            if (checkvowel(char)) :\n",
    "                count += 1\n",
    "        if (count >= 2) :\n",
    "            print(reverse(str.upper()))\n",
    "            break\n",
    "        else :\n",
    "            print('Not enough vowels. Please try again. \\n')\n"
   ]
  },
  {
   "cell_type": "markdown",
   "metadata": {},
   "source": [
    " "
   ]
  },
  {
   "cell_type": "markdown",
   "metadata": {},
   "source": [
    "Q3]Write a Python program with the help of given instructions:\n",
    "Enter 5 pairs of students and marks as integers in a nested list.\n",
    "Example – [[‘Ajay’, 50], [‘Vijay’, 48], [‘Shruti’, 66], [‘Divya’, 20], [‘Kunal’], 30]]\n",
    "Sort the nested list according to the marks which need to be in descending order (You can use\n",
    "lambda function for sorting). Print the sorted list. Also print the name and marks of the student\n",
    "with the second highest marks."
   ]
  },
  {
   "cell_type": "code",
   "execution_count": 2,
   "metadata": {},
   "outputs": [
    {
     "name": "stdout",
     "output_type": "stream",
     "text": [
      "[['Shruti', 66], ['Ajay', 50], ['Vijay', 48], ['Kunal', 30], ['Divya', 20]]\n",
      "Name of student who has second highest marks : Ajay\n",
      "Marks of student who has second highest marks : 50\n"
     ]
    }
   ],
   "source": [
    "lst = [['Ajay', 50], ['Vijay', 48], ['Shruti', 66], ['Divya', 20], ['Kunal', 30]]\n",
    "lst1 = sorted(lst, key = lambda x : x[1], reverse = True)\n",
    "print(lst1)\n",
    "print('Name of student who has second highest marks :',lst1[1][0])\n",
    "print('Marks of student who has second highest marks :',lst1[1][1])"
   ]
  },
  {
   "cell_type": "markdown",
   "metadata": {},
   "source": [
    " "
   ]
  },
  {
   "cell_type": "markdown",
   "metadata": {},
   "source": [
    "Q4]Write a Python program with the help of given instructions:\n",
    "Enter the given values inside dictionary as key value pairs.\n",
    "‘Mumbai’ – 71\n",
    "‘Delhi’ – 26\n",
    "‘Bangalore’ – 37\n",
    "‘Pune’ – None\n",
    "‘Kolkata’ – 56\n",
    "‘Chennai’ – 29\n",
    "‘Hyderabad’ – None\n",
    "‘Ahmedabad’ - 32\n",
    "‘Lucknow’ – 67\n",
    "‘Surat’ – None\n",
    "Remove the empty (None) values and print the dictionary."
   ]
  },
  {
   "cell_type": "code",
   "execution_count": 6,
   "metadata": {},
   "outputs": [
    {
     "name": "stdout",
     "output_type": "stream",
     "text": [
      "{'Mumbai': 71, 'Delhi': 26, 'Bangalore': 37, 'Kolkata': 56, 'Chennai': 29, 'Ahmedabad': 32, 'Lucknow': 67}\n"
     ]
    }
   ],
   "source": [
    "import re\n",
    "\n",
    "str = '''‘Mumbai’ – 71\n",
    "‘Delhi’ – 26\n",
    "‘Bangalore’ – 37\n",
    "‘Pune’ – None\n",
    "‘Kolkata’ – 56\n",
    "‘Chennai’ – 29\n",
    "‘Hyderabad’ – None\n",
    "‘Ahmedabad’ - 32\n",
    "‘Lucknow’ – 67\n",
    "‘Surat’ – None'''\n",
    "\n",
    "\n",
    "dict = {}\n",
    "def parsing(str) :\n",
    "    lst = str.split('\\n')\n",
    "    for substr in lst :\n",
    "        x = re.findall(r\"[a-zA-Z]+\",substr)\n",
    "        y = re.findall(r\"[0-9][0-9]\",substr)\n",
    "        if ('None' in x) :\n",
    "            dict[''.join(x)[:-4]] = None\n",
    "        else :\n",
    "            dict[''.join(x)] = int(''.join(y))\n",
    "parsing(str)\n",
    "\n",
    "\n",
    "lst = []\n",
    "for key in dict :\n",
    "    if (dict[key] == None) :\n",
    "        lst.append(key)\n",
    "\n",
    "for key in lst :\n",
    "    del dict[key]\n",
    "\n",
    "print(dict)"
   ]
  },
  {
   "cell_type": "markdown",
   "metadata": {},
   "source": [
    " "
   ]
  },
  {
   "cell_type": "markdown",
   "metadata": {},
   "source": [
    "Q5]Write a Python program with the help of given instructions:\n",
    "Create a class named ‘circle’ constructed by a radius.\n",
    "It must have two methods which will compute the area of the circle and the perimeter of a\n",
    "circle. (Take value of pi from math module)"
   ]
  },
  {
   "cell_type": "code",
   "execution_count": 12,
   "metadata": {},
   "outputs": [
    {
     "name": "stdout",
     "output_type": "stream",
     "text": [
      "The area of the given circle is 314.1592653589793\n",
      "and its primeter is 62.83185307179586 . \n"
     ]
    }
   ],
   "source": [
    "from math import *\n",
    "class circle():\n",
    "    def __init__(self,r):\n",
    "        self.radius = r\n",
    "        \n",
    "    def area(self):\n",
    "        A = pi*(self.radius**2)\n",
    "        return A\n",
    "    def perimeter(self):\n",
    "        P = pi*(self.radius*2)\n",
    "        return P\n",
    "c1 = circle(10)\n",
    "print(\"The area of the given circle is {}\\nand its primeter is {} . \".format(c1.area(),c1.perimeter())  )"
   ]
  }
 ],
 "metadata": {
  "kernelspec": {
   "display_name": "Python 3",
   "language": "python",
   "name": "python3"
  },
  "language_info": {
   "codemirror_mode": {
    "name": "ipython",
    "version": 3
   },
   "file_extension": ".py",
   "mimetype": "text/x-python",
   "name": "python",
   "nbconvert_exporter": "python",
   "pygments_lexer": "ipython3",
   "version": "3.8.5"
  }
 },
 "nbformat": 4,
 "nbformat_minor": 4
}
