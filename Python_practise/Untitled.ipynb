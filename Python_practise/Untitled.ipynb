{
 "cells": [
  {
   "cell_type": "code",
   "execution_count": 1,
   "metadata": {},
   "outputs": [],
   "source": [
    "s=\"Welcome to python\""
   ]
  },
  {
   "cell_type": "code",
   "execution_count": 7,
   "metadata": {},
   "outputs": [
    {
     "name": "stdout",
     "output_type": "stream",
     "text": [
      "result =  10\n",
      "Welcome to python\n"
     ]
    }
   ],
   "source": [
    "#program with two function\n",
    "def add(x,y):\n",
    "    '''\n",
    "    This function takes two numbers as input and adds them\n",
    "    '''\n",
    "    print(\"result = \",(x+y))\n",
    "    \n",
    "def show():\n",
    "    '''\n",
    "    This function only displays a message \n",
    "    it shows a welcome message to the usser\n",
    "    '''\n",
    "    print(\"Welcome to python\")\n",
    "\n",
    "#function calling\n",
    "    \n",
    "add(4,6)\n",
    "show()"
   ]
  },
  {
   "cell_type": "code",
   "execution_count": null,
   "metadata": {},
   "outputs": [],
   "source": []
  }
 ],
 "metadata": {
  "kernelspec": {
   "display_name": "Python 3",
   "language": "python",
   "name": "python3"
  },
  "language_info": {
   "codemirror_mode": {
    "name": "ipython",
    "version": 3
   },
   "file_extension": ".py",
   "mimetype": "text/x-python",
   "name": "python",
   "nbconvert_exporter": "python",
   "pygments_lexer": "ipython3",
   "version": "3.8.5"
  }
 },
 "nbformat": 4,
 "nbformat_minor": 4
}
